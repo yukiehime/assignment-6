{
 "cells": [
  {
   "cell_type": "markdown",
   "id": "fa1abb13",
   "metadata": {},
   "source": [
    "A system with two springs, connected at one end with a force in some general direction (with x and y components); the system has both horizontal and vertical components. The springs have spring constants ka and kb, and unloaded lengths La and Lb."
   ]
  },
  {
   "cell_type": "code",
   "execution_count": 10,
   "id": "0286984b",
   "metadata": {},
   "outputs": [
    {
     "name": "stdout",
     "output_type": "stream",
     "text": [
      "Equilibrium displacement: x= 4.95 cm, y= 1.28 cm\n"
     ]
    }
   ],
   "source": [
    "from scipy.optimize import minimize\n",
    "\n",
    "spring_constant_a = 9.0 # N/cm\n",
    "spring_constant_b = 2.0 # N/cm\n",
    "length_a = 10.0 # cm\n",
    "length_b = 10.0 # cm\n",
    "\n",
    "force_x = 2.0 # N\n",
    "force_y = 4.0 # N\n",
    "\n",
    "def spring_system(xvec, ka, kb, La, Lb, Fx, Fy):\n",
    "    '''Calculates potential energy of springs pulled by force.\n",
    "    '''\n",
    "    x = xvec[0]\n",
    "    y = xvec[1]\n",
    "    return (\n",
    "        0.5*ka * (np.sqrt(x**2 + (La - y)**2) - La)**2 +\n",
    "        0.5*kb * (np.sqrt(x**2 + (Lb + y)**2) - Lb)**2\n",
    "        - (Fx * x) - (Fy * y))\n",
    "\n",
    "guesses = [1.0, 1.0]\n",
    "sol = minimize(\n",
    "    spring_system, guesses, \n",
    "    args=(spring_constant_a, spring_constant_b, \n",
    "          length_a, length_b, force_x, force_y))\n",
    "\n",
    "x = sol.x[0]\n",
    "y = sol.x[1]\n",
    "print(f'Equilibrium displacement: x={x: .2f} cm, y={y: .2f} cm')"
   ]
  },
  {
   "cell_type": "markdown",
   "id": "ad880544",
   "metadata": {},
   "source": [
    "source link: https://kyleniemeyer.github.io/computational-thermo/content/using-scipy.html"
   ]
  },
  {
   "cell_type": "code",
   "execution_count": null,
   "id": "1d11159e",
   "metadata": {},
   "outputs": [],
   "source": []
  }
 ],
 "metadata": {
  "kernelspec": {
   "display_name": "Python 3 (ipykernel)",
   "language": "python",
   "name": "python3"
  },
  "language_info": {
   "codemirror_mode": {
    "name": "ipython",
    "version": 3
   },
   "file_extension": ".py",
   "mimetype": "text/x-python",
   "name": "python",
   "nbconvert_exporter": "python",
   "pygments_lexer": "ipython3",
   "version": "3.11.5"
  }
 },
 "nbformat": 4,
 "nbformat_minor": 5
}
